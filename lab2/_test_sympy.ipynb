{
 "cells": [
  {
   "cell_type": "code",
   "execution_count": 4,
   "metadata": {},
   "outputs": [],
   "source": [
    "import sympy as sp\n",
    "from sympy import symbols, cos, sin, pi, Matrix, simplify, atan2, sqrt"
   ]
  },
  {
   "cell_type": "code",
   "execution_count": 22,
   "metadata": {},
   "outputs": [
    {
     "name": "stdout",
     "output_type": "stream",
     "text": [
      "⎡0.106066017177982⋅sin(θ₂) + 0.106066017177982⋅cos(θ₂ + θ₃) + 0.06363961030678 ↪\n",
      "⎢                                                                              ↪\n",
      "⎢0.106066017177982⋅sin(θ₂) + 0.106066017177982⋅cos(θ₂ + θ₃) + 0.06363961030678 ↪\n",
      "⎢                                                                              ↪\n",
      "⎣                       -0.15⋅sin(θ₂ + θ₃) + 0.15⋅cos(θ₂)                      ↪\n",
      "\n",
      "↪ 93⎤\n",
      "↪   ⎥\n",
      "↪ 93⎥\n",
      "↪   ⎥\n",
      "↪   ⎦\n",
      "[]\n"
     ]
    }
   ],
   "source": [
    "# 定义符号变量\n",
    "theta1, theta2, theta3, theta4, theta5 = sp.symbols('theta1 theta2 theta3 theta4 theta5')\n",
    "\n",
    "theta4 = -(theta3 + theta2)\n",
    "\n",
    "# 定义每个关节的齐次变换矩阵\n",
    "T01 = sp.Matrix([\n",
    "    [sp.cos(theta1), 0, sp.sin(theta1), 0],\n",
    "    [sp.sin(theta1), 0, -sp.cos(theta1), 0],\n",
    "    [0, -1, 0, 0],\n",
    "    [0, 0, 0, 1]\n",
    "])\n",
    "\n",
    "T12 = sp.Matrix([\n",
    "    [sp.cos(theta2 - sp.pi/2), -sp.sin(theta2 - sp.pi/2), 0, 0.15 * sp.cos(theta2 - sp.pi/2)],\n",
    "    [sp.sin(theta2 - sp.pi/2), sp.cos(theta2 - sp.pi/2), 0, 0.15 * sp.sin(theta2 - sp.pi/2)],\n",
    "    [0, 0, 1, 0],\n",
    "    [0, 0, 0, 1]\n",
    "])\n",
    "\n",
    "T23 = sp.Matrix([\n",
    "    [sp.cos(theta3 + sp.pi/2), -sp.sin(theta3 + sp.pi/2), 0, 0.15 * sp.cos(theta3 + sp.pi/2)],\n",
    "    [sp.sin(theta3 + sp.pi/2), sp.cos(theta3 + sp.pi/2), 0, 0.15 * sp.sin(theta3 + sp.pi/2)],\n",
    "    [0, 0, 1, 0],\n",
    "    [0, 0, 0, 1]\n",
    "])\n",
    "\n",
    "T34 = sp.Matrix([\n",
    "    [sp.cos(theta4), 0, sp.sin(theta4), 0.09 * sp.cos(theta4)],\n",
    "    [sp.sin(theta4), 0, -sp.cos(theta4), 0.09 * sp.sin(theta4)],\n",
    "    [0, 1, 0, 0],\n",
    "    [0, 0, 0, 1]\n",
    "])\n",
    "\n",
    "T45 = sp.Matrix([\n",
    "    [sp.cos(theta5), -sp.sin(theta5), 0, 0],\n",
    "    [sp.sin(theta5), sp.cos(theta5), 0, 0],\n",
    "    [0, 0, 1, 0],\n",
    "    [0, 0, 0, 1]\n",
    "])\n",
    "\n",
    "# 计算总的变换矩阵\n",
    "T05 = T01 * T12 * T23 * T34  # * T45\n",
    "T_total = simplify(T05)  # 简化表达式\n",
    "# sp.pprint(T_total)\n",
    "\n",
    "# 提取末端位姿\n",
    "position = T_total[:3, 3]  # 位置部分\n",
    "# orientation = T_total[:3, :3]  # 方向部分\n",
    "\n",
    "# 目标位置\n",
    "target_position = sp.Matrix([0.2, 0.2, 0.1])\n",
    "theta1_solution = sp.atan2(target_position[1], target_position[0])\n",
    "T05_with_theta1 = T05.subs(theta1, theta1_solution)\n",
    "T05_with_theta1 = simplify(T05_with_theta1)  # 简化表达式\n",
    "position_with_theta1 = T05_with_theta1[:3, 3]\n",
    "sp.pprint(T05_with_theta1[:3, 3])\n",
    "\n",
    "# 设定方程并求解\n",
    "solutions = sp.solve(position_with_theta1 - target_position, (theta2, theta3))\n",
    "\n",
    "# 打印结果\n",
    "sp.pprint(solutions)"
   ]
  },
  {
   "cell_type": "code",
   "execution_count": 23,
   "metadata": {},
   "outputs": [
    {
     "data": {
      "text/plain": [
       "[]"
      ]
     },
     "execution_count": 23,
     "metadata": {},
     "output_type": "execute_result"
    }
   ],
   "source": [
    "solutions"
   ]
  },
  {
   "cell_type": "code",
   "execution_count": 35,
   "metadata": {},
   "outputs": [
    {
     "data": {
      "text/plain": [
       "(0.15*sin(theta2) + 0.15*cos(theta2 + theta3) + 0.09,\n",
       " 0.15*sin(theta2 + theta3) - 0.15*cos(theta2),\n",
       " 0,\n",
       " Matrix([\n",
       " [1, 0,  0],\n",
       " [0, 0, -1],\n",
       " [0, 1,  0]]))"
      ]
     },
     "execution_count": 35,
     "metadata": {},
     "output_type": "execute_result"
    }
   ],
   "source": [
    "# 提取位置向量 [px, py, pz]\n",
    "c\n",
    "\n",
    "# 提取旋转矩阵（前三行前三列）\n",
    "rotation_matrix = T_total[:3, :3]\n",
    "\n",
    "px, py, pz, rotation_matrix"
   ]
  },
  {
   "cell_type": "code",
   "execution_count": 36,
   "metadata": {},
   "outputs": [
    {
     "name": "stdout",
     "output_type": "stream",
     "text": [
      "⎡1  0  0   0.257959548719692 ⎤\n",
      "⎢                            ⎥\n",
      "⎢0  0  -1  -0.205422738022484⎥\n",
      "⎢                            ⎥\n",
      "⎢0  1  0           0         ⎥\n",
      "⎢                            ⎥\n",
      "⎣0  0  0           1         ⎦\n",
      "⎡1.0   0    0    0.257959548719692 ⎤\n",
      "⎢                                  ⎥\n",
      "⎢ 0    0   -1.0  -0.205422738022484⎥\n",
      "⎢                                  ⎥\n",
      "⎢ 0   1.0   0            0         ⎥\n",
      "⎢                                  ⎥\n",
      "⎣ 0    0    0           1.0        ⎦\n"
     ]
    }
   ],
   "source": [
    "# 测试正运动学\n",
    "\n",
    "# 将符号变量替换为具体数值\n",
    "T_total_val = T_total.subs({\n",
    "    theta1: 0.1,\n",
    "    theta2: 0.2,\n",
    "    theta3: 0.3,\n",
    "    theta4: 0.4\n",
    "})\n",
    "sp.pprint(T_total_val)\n",
    "sp.pprint(T_total_val.evalf())"
   ]
  },
  {
   "cell_type": "code",
   "execution_count": null,
   "metadata": {},
   "outputs": [
    {
     "data": {
      "text/plain": [
       "[(0.199485577233386, theta3, 0.399724619324744),\n",
       " (1.17107170747015, theta3, 1.37131074956151)]"
      ]
     },
     "execution_count": 39,
     "metadata": {},
     "output_type": "execute_result"
    }
   ],
   "source": [
    "# 假设目标位置为 [px_val, py_val, pz_val]\n",
    "target_px = 0.2579  # 示例值\n",
    "target_py = -0.2054\n",
    "target_pz = 0.0\n",
    "\n",
    "# 定义方程组\n",
    "from sympy import Eq, solve\n",
    "\n",
    "equations = [\n",
    "    Eq(px, target_px),\n",
    "    Eq(py, target_py),\n",
    "    Eq(pz, target_pz)\n",
    "]\n",
    "\n",
    "# 尝试求解（可能需要数值方法或进一步简化）\n",
    "solutions = solve(equations, (theta1, theta2, theta3), dict=True)\n",
    "solutions"
   ]
  },
  {
   "cell_type": "code",
   "execution_count": 29,
   "metadata": {},
   "outputs": [
    {
     "data": {
      "text/plain": [
       "dict_keys([theta2, -theta2 - theta3])"
      ]
     },
     "execution_count": 29,
     "metadata": {},
     "output_type": "execute_result"
    }
   ],
   "source": [
    "solutions[0].keys()"
   ]
  }
 ],
 "metadata": {
  "kernelspec": {
   "display_name": "mujoco",
   "language": "python",
   "name": "python3"
  },
  "language_info": {
   "codemirror_mode": {
    "name": "ipython",
    "version": 3
   },
   "file_extension": ".py",
   "mimetype": "text/x-python",
   "name": "python",
   "nbconvert_exporter": "python",
   "pygments_lexer": "ipython3",
   "version": "3.11.11"
  }
 },
 "nbformat": 4,
 "nbformat_minor": 2
}
