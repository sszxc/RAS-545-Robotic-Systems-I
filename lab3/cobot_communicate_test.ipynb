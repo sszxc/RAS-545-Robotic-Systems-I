{
 "cells": [
  {
   "cell_type": "code",
   "execution_count": 4,
   "metadata": {},
   "outputs": [],
   "source": [
    "from cobot_communicate import send_tcp_packet"
   ]
  },
  {
   "cell_type": "code",
   "execution_count": 5,
   "metadata": {},
   "outputs": [],
   "source": [
    "# Replace with the correct IP and port\n",
    "SERVER_IP = \"192.168.1.159\"\n",
    "SERVER_PORT = 5001"
   ]
  },
  {
   "cell_type": "code",
   "execution_count": 6,
   "metadata": {},
   "outputs": [
    {
     "name": "stdout",
     "output_type": "stream",
     "text": [
      "Connected to 192.168.1.159:5001\n",
      "Sent: set_angles(0, -90, 0, -90, 0, 0, 500)\n",
      "Received: set_angles:[ok]\n",
      "Connection closed.\n"
     ]
    }
   ],
   "source": [
    "# MESSAGE = \"set_angles(0, 0, 0, 0, 0, 0, 500)\"\n",
    "MESSAGE = \"set_angles(0, -90, 0, -90, 0, 0, 500)\"\n",
    "send_tcp_packet(SERVER_IP, SERVER_PORT, MESSAGE)"
   ]
  },
  {
   "cell_type": "code",
   "execution_count": 35,
   "metadata": {},
   "outputs": [
    {
     "name": "stdout",
     "output_type": "stream",
     "text": [
      "Connected to 192.168.1.10:5001\n",
      "Sent: get_angles()\n",
      "Received: get_angles:[0.001923,-89.997829,0.000907,-90.351562,0.351563,0.087891]\n",
      "Connection closed.\n"
     ]
    }
   ],
   "source": [
    "MESSAGE = \"get_angles()\"\n",
    "send_tcp_packet(SERVER_IP, SERVER_PORT, MESSAGE)"
   ]
  },
  {
   "cell_type": "code",
   "execution_count": null,
   "metadata": {},
   "outputs": [],
   "source": []
  }
 ],
 "metadata": {
  "kernelspec": {
   "display_name": "ras545",
   "language": "python",
   "name": "python3"
  },
  "language_info": {
   "codemirror_mode": {
    "name": "ipython",
    "version": 3
   },
   "file_extension": ".py",
   "mimetype": "text/x-python",
   "name": "python",
   "nbconvert_exporter": "python",
   "pygments_lexer": "ipython3",
   "version": "3.10.16"
  }
 },
 "nbformat": 4,
 "nbformat_minor": 2
}
