{
 "cells": [
  {
   "cell_type": "code",
   "execution_count": 1,
   "metadata": {},
   "outputs": [],
   "source": [
    "from cobot_communicate import send_tcp_packet"
   ]
  },
  {
   "cell_type": "code",
   "execution_count": 2,
   "metadata": {},
   "outputs": [],
   "source": [
    "# Replace with the correct IP and port\n",
    "SERVER_IP = \"192.168.1.159\"\n",
    "SERVER_PORT = 5001"
   ]
  },
  {
   "cell_type": "code",
   "execution_count": null,
   "metadata": {},
   "outputs": [
    {
     "name": "stdout",
     "output_type": "stream",
     "text": [
      "Connected to 192.168.1.159:5001\n",
      "Sent: set_angles(-120, -60, 120, -150, -90, 0, 1000)\n",
      "Received: set_angles:[ok]\n",
      "Connection closed.\n"
     ]
    },
    {
     "data": {
      "text/plain": [
       "'set_angles:[ok]'"
      ]
     },
     "execution_count": 24,
     "metadata": {},
     "output_type": "execute_result"
    }
   ],
   "source": [
    "# MESSAGE = \"set_angles(0, 0, 0, 0, 0, 0, 500)\"\n",
    "MESSAGE = \"set_angles(0, -90, 0, -90, 0, 0, 500)\"\n",
    "# MESSAGE = \"set_angles(-120, -60, 120, -150, -90, 0, 1000)\"\n",
    "send_tcp_packet(SERVER_IP, SERVER_PORT, MESSAGE)"
   ]
  },
  {
   "cell_type": "code",
   "execution_count": 4,
   "metadata": {},
   "outputs": [
    {
     "name": "stdout",
     "output_type": "stream",
     "text": [
      "Connected to 192.168.1.159:5001\n",
      "Sent: get_angles()\n",
      "Received: get_angles:[-0.000525,-89.999739,0.000016,-89.824219,-2.900391,-0.263672]\n",
      "Connection closed.\n"
     ]
    },
    {
     "data": {
      "text/plain": [
       "'get_angles:[-0.000525,-89.999739,0.000016,-89.824219,-2.900391,-0.263672]'"
      ]
     },
     "execution_count": 4,
     "metadata": {},
     "output_type": "execute_result"
    }
   ],
   "source": [
    "MESSAGE = \"get_angles()\"\n",
    "send_tcp_packet(SERVER_IP, SERVER_PORT, MESSAGE)"
   ]
  },
  {
   "cell_type": "code",
   "execution_count": null,
   "metadata": {},
   "outputs": [],
   "source": []
  }
 ],
 "metadata": {
  "kernelspec": {
   "display_name": "ras545",
   "language": "python",
   "name": "python3"
  },
  "language_info": {
   "codemirror_mode": {
    "name": "ipython",
    "version": 3
   },
   "file_extension": ".py",
   "mimetype": "text/x-python",
   "name": "python",
   "nbconvert_exporter": "python",
   "pygments_lexer": "ipython3",
   "version": "3.10.16"
  }
 },
 "nbformat": 4,
 "nbformat_minor": 2
}
